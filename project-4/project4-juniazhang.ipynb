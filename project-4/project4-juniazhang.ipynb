{
 "cells": [
  {
   "cell_type": "markdown",
   "metadata": {
    "deletable": true,
    "editable": true
   },
   "source": [
    "# Project 4\n",
    "\n",
    "In this project, you will summarize and present your analysis from Projects 1-3."
   ]
  },
  {
   "cell_type": "markdown",
   "metadata": {
    "deletable": true,
    "editable": true
   },
   "source": [
    "### Intro: Write a problem Statement/ Specific Aim for this project"
   ]
  },
  {
   "cell_type": "markdown",
   "metadata": {
    "deletable": true,
    "editable": true
   },
   "source": [
    "Answer: Predict the probability that a student will be admitted into graduate school using the undergraduate school prestige, GRE score, and GPA."
   ]
  },
  {
   "cell_type": "markdown",
   "metadata": {
    "deletable": true,
    "editable": true
   },
   "source": [
    "### Dataset:  Write up a description of your data and any cleaning that was completed"
   ]
  },
  {
   "cell_type": "markdown",
   "metadata": {
    "deletable": true,
    "editable": true
   },
   "source": [
    "Answer: The data contains four variables - admit, GRE, GPA, and prestige.\n",
    "\n",
    "Variable | Description | Type of Variable | DType \n",
    "---| ---| ---\n",
    "admit | 0 = not admitted, 1 = admitted | categorical | integer\n",
    "gre | candidate GRE score | continuous | float\n",
    "gpa | candidate Grade Point Average | continuous | float\n",
    "prestige | rank of undergraduate alma mater: 1 = highest, 4 = lowest | categorical | float\n",
    "\n",
    "Initally, the data contained 400 observations. In cleaning the data, I dropped data points with missing values, leaving us with 397 observations."
   ]
  },
  {
   "cell_type": "markdown",
   "metadata": {
    "collapsed": true,
    "deletable": true,
    "editable": true
   },
   "source": [
    "### Demo: Provide a table that explains the data by admission status"
   ]
  },
  {
   "cell_type": "markdown",
   "metadata": {
    "deletable": true,
    "editable": true
   },
   "source": [
    "Mean (STD) or counts by admission status for each variable \n",
    "\n",
    "| Not Admitted | Admitted\n",
    "---| ---|---\n",
    "GPA | mean(std)  | mean(std)\n",
    "GRE |mean(std) | mean(std)\n",
    "Prestige 1 | frequency (%) | frequency (%)\n",
    "Prestige 2 | frequency (%) | frequency (%)\n",
    "Prestige 3 |frequency (%) | frequency (%)\n",
    "Prestige 4 |frequency (%) | frequency (%)"
   ]
  },
  {
   "cell_type": "code",
   "execution_count": 2,
   "metadata": {
    "collapsed": true
   },
   "outputs": [],
   "source": [
    "%matplotlib inline\n",
    "import matplotlib.pyplot as plt\n",
    "import pandas as pd\n",
    "import statsmodels.api as sm\n",
    "import pylab as pl\n",
    "import numpy as np"
   ]
  },
  {
   "cell_type": "code",
   "execution_count": 3,
   "metadata": {
    "collapsed": false
   },
   "outputs": [
    {
     "name": "stdout",
     "output_type": "stream",
     "text": [
      "   admit    gre   gpa  prestige\n",
      "0      0  380.0  3.61       3.0\n",
      "1      1  660.0  3.67       3.0\n",
      "2      1  800.0  4.00       1.0\n",
      "3      1  640.0  3.19       4.0\n",
      "4      0  520.0  2.93       4.0\n"
     ]
    }
   ],
   "source": [
    "df_raw = pd.read_csv(\"assets/admissions.csv\")\n",
    "df = df_raw.dropna() \n",
    "print df.head()"
   ]
  },
  {
   "cell_type": "code",
   "execution_count": 4,
   "metadata": {
    "collapsed": false
   },
   "outputs": [
    {
     "data": {
      "text/html": [
       "<div>\n",
       "<table border=\"1\" class=\"dataframe\">\n",
       "  <thead>\n",
       "    <tr style=\"text-align: right;\">\n",
       "      <th></th>\n",
       "      <th>admit</th>\n",
       "      <th>gre</th>\n",
       "      <th>gpa</th>\n",
       "      <th>prestige_1.0</th>\n",
       "      <th>prestige_2.0</th>\n",
       "      <th>prestige_3.0</th>\n",
       "      <th>prestige_4.0</th>\n",
       "    </tr>\n",
       "  </thead>\n",
       "  <tbody>\n",
       "    <tr>\n",
       "      <th>0</th>\n",
       "      <td>0</td>\n",
       "      <td>380.0</td>\n",
       "      <td>3.61</td>\n",
       "      <td>0</td>\n",
       "      <td>0</td>\n",
       "      <td>1</td>\n",
       "      <td>0</td>\n",
       "    </tr>\n",
       "    <tr>\n",
       "      <th>1</th>\n",
       "      <td>1</td>\n",
       "      <td>660.0</td>\n",
       "      <td>3.67</td>\n",
       "      <td>0</td>\n",
       "      <td>0</td>\n",
       "      <td>1</td>\n",
       "      <td>0</td>\n",
       "    </tr>\n",
       "    <tr>\n",
       "      <th>2</th>\n",
       "      <td>1</td>\n",
       "      <td>800.0</td>\n",
       "      <td>4.00</td>\n",
       "      <td>1</td>\n",
       "      <td>0</td>\n",
       "      <td>0</td>\n",
       "      <td>0</td>\n",
       "    </tr>\n",
       "    <tr>\n",
       "      <th>3</th>\n",
       "      <td>1</td>\n",
       "      <td>640.0</td>\n",
       "      <td>3.19</td>\n",
       "      <td>0</td>\n",
       "      <td>0</td>\n",
       "      <td>0</td>\n",
       "      <td>1</td>\n",
       "    </tr>\n",
       "    <tr>\n",
       "      <th>4</th>\n",
       "      <td>0</td>\n",
       "      <td>520.0</td>\n",
       "      <td>2.93</td>\n",
       "      <td>0</td>\n",
       "      <td>0</td>\n",
       "      <td>0</td>\n",
       "      <td>1</td>\n",
       "    </tr>\n",
       "  </tbody>\n",
       "</table>\n",
       "</div>"
      ],
      "text/plain": [
       "   admit    gre   gpa  prestige_1.0  prestige_2.0  prestige_3.0  prestige_4.0\n",
       "0      0  380.0  3.61             0             0             1             0\n",
       "1      1  660.0  3.67             0             0             1             0\n",
       "2      1  800.0  4.00             1             0             0             0\n",
       "3      1  640.0  3.19             0             0             0             1\n",
       "4      0  520.0  2.93             0             0             0             1"
      ]
     },
     "execution_count": 4,
     "metadata": {},
     "output_type": "execute_result"
    }
   ],
   "source": [
    "df = pd.get_dummies(df, columns=['prestige'])\n",
    "df.head()"
   ]
  },
  {
   "cell_type": "code",
   "execution_count": 26,
   "metadata": {
    "collapsed": false
   },
   "outputs": [],
   "source": [
    "table = pd.DataFrame(data='NA', index=['GPA Mean','GPA STD','GRE Mean','GRE STD','Prestige 1','Prestige 2','Prestige 3','Prestige 4'], \n",
    "                  columns=['Not Admitted','Admitted'])"
   ]
  },
  {
   "cell_type": "code",
   "execution_count": 27,
   "metadata": {
    "collapsed": false
   },
   "outputs": [
    {
     "data": {
      "text/html": [
       "<div>\n",
       "<table border=\"1\" class=\"dataframe\">\n",
       "  <thead>\n",
       "    <tr style=\"text-align: right;\">\n",
       "      <th></th>\n",
       "      <th>Not Admitted</th>\n",
       "      <th>Admitted</th>\n",
       "    </tr>\n",
       "  </thead>\n",
       "  <tbody>\n",
       "    <tr>\n",
       "      <th>GPA Mean</th>\n",
       "      <td>3.34716</td>\n",
       "      <td>3.48921</td>\n",
       "    </tr>\n",
       "    <tr>\n",
       "      <th>GPA STD</th>\n",
       "      <td>0.376355</td>\n",
       "      <td>0.371655</td>\n",
       "    </tr>\n",
       "    <tr>\n",
       "      <th>GRE Mean</th>\n",
       "      <td>573.579</td>\n",
       "      <td>618.571</td>\n",
       "    </tr>\n",
       "    <tr>\n",
       "      <th>GRE STD</th>\n",
       "      <td>116.053</td>\n",
       "      <td>109.257</td>\n",
       "    </tr>\n",
       "    <tr>\n",
       "      <th>Prestige 1</th>\n",
       "      <td>0.459016</td>\n",
       "      <td>0.540984</td>\n",
       "    </tr>\n",
       "    <tr>\n",
       "      <th>Prestige 2</th>\n",
       "      <td>0.641892</td>\n",
       "      <td>0.358108</td>\n",
       "    </tr>\n",
       "    <tr>\n",
       "      <th>Prestige 3</th>\n",
       "      <td>0.768595</td>\n",
       "      <td>0.231405</td>\n",
       "    </tr>\n",
       "    <tr>\n",
       "      <th>Prestige 4</th>\n",
       "      <td>0.820896</td>\n",
       "      <td>0.179104</td>\n",
       "    </tr>\n",
       "  </tbody>\n",
       "</table>\n",
       "</div>"
      ],
      "text/plain": [
       "           Not Admitted  Admitted\n",
       "GPA Mean        3.34716   3.48921\n",
       "GPA STD        0.376355  0.371655\n",
       "GRE Mean        573.579   618.571\n",
       "GRE STD         116.053   109.257\n",
       "Prestige 1     0.459016  0.540984\n",
       "Prestige 2     0.641892  0.358108\n",
       "Prestige 3     0.768595  0.231405\n",
       "Prestige 4     0.820896  0.179104"
      ]
     },
     "execution_count": 27,
     "metadata": {},
     "output_type": "execute_result"
    }
   ],
   "source": [
    "table.loc['GPA Mean','Not Admitted']=df['gpa'].groupby(df['admit']).mean()[0]\n",
    "table.loc['GPA STD','Not Admitted']=df['gpa'].groupby(df['admit']).std()[0]\n",
    "table.loc['GPA Mean','Admitted']=df['gpa'].groupby(df['admit']).mean()[1]\n",
    "table.loc['GPA STD','Admitted']=df['gpa'].groupby(df['admit']).std()[1]\n",
    "\n",
    "table.loc['GRE Mean','Not Admitted']=df['gre'].groupby(df['admit']).mean()[0]\n",
    "table.loc['GRE STD','Not Admitted']=df['gre'].groupby(df['admit']).std()[0]\n",
    "table.loc['GRE Mean','Admitted']=df['gre'].groupby(df['admit']).mean()[1]\n",
    "table.loc['GRE STD','Admitted']=df['gre'].groupby(df['admit']).std()[1]\n",
    "\n",
    "table.loc['Prestige 1','Not Admitted']=float(len(df[(df['prestige_1.0']==1)&(df['admit']==0)]))/len(df[df['prestige_1.0']==1])\n",
    "table.loc['Prestige 2','Not Admitted']=float(len(df[(df['prestige_2.0']==1)&(df['admit']==0)]))/len(df[df['prestige_2.0']==1])\n",
    "table.loc['Prestige 3','Not Admitted']=float(len(df[(df['prestige_3.0']==1)&(df['admit']==0)]))/len(df[df['prestige_3.0']==1])\n",
    "table.loc['Prestige 4','Not Admitted']=float(len(df[(df['prestige_4.0']==1)&(df['admit']==0)]))/len(df[df['prestige_4.0']==1])\n",
    "\n",
    "table.loc['Prestige 1','Admitted']= 1 - table.loc['Prestige 1','Not Admitted']\n",
    "table.loc['Prestige 2','Admitted']= 1 - table.loc['Prestige 2','Not Admitted']\n",
    "table.loc['Prestige 3','Admitted']= 1 - table.loc['Prestige 3','Not Admitted']\n",
    "table.loc['Prestige 4','Admitted']= 1 - table.loc['Prestige 4','Not Admitted']\n",
    "\n",
    "table"
   ]
  },
  {
   "cell_type": "markdown",
   "metadata": {
    "deletable": true,
    "editable": true
   },
   "source": [
    "### Methods: Write up the methods used in your analysis"
   ]
  },
  {
   "cell_type": "markdown",
   "metadata": {
    "deletable": true,
    "editable": true
   },
   "source": [
    "Answer: After cleaning the data and adding dummy variables for prestige, I added a constant term for the logistic regression and defined the training columns. I then used the Logit function in statsmodels to fit the model and predict admission. \n",
    "\n",
    "\n",
    "As a way of evaluating our classifier, we used a helper Cartesian function to generate every logical combination of input values from the dataset. This allowed us to see how the predicted probability of admission changes across different variables. "
   ]
  },
  {
   "cell_type": "markdown",
   "metadata": {
    "deletable": true,
    "editable": true
   },
   "source": [
    "### Results: Write up your results"
   ]
  },
  {
   "cell_type": "markdown",
   "metadata": {
    "deletable": true,
    "editable": true
   },
   "source": [
    "Answer: The p-values for all coefficients were <0.05, therefore all variables were statistically significant. GRE and GPA are positively correlated with the probability of admission. There is also an inverse relationship between prestige ranking and probability of admission."
   ]
  },
  {
   "cell_type": "markdown",
   "metadata": {
    "deletable": true,
    "editable": true
   },
   "source": [
    "### Visuals: Provide a table or visualization of these results"
   ]
  },
  {
   "cell_type": "code",
   "execution_count": 28,
   "metadata": {
    "collapsed": false
   },
   "outputs": [
    {
     "name": "stdout",
     "output_type": "stream",
     "text": [
      "Optimization terminated successfully.\n",
      "         Current function value: 0.573854\n",
      "         Iterations 6\n",
      "                           Logit Regression Results                           \n",
      "==============================================================================\n",
      "Dep. Variable:                  admit   No. Observations:                  397\n",
      "Model:                          Logit   Df Residuals:                      391\n",
      "Method:                           MLE   Df Model:                            5\n",
      "Date:                Mon, 06 Mar 2017   Pseudo R-squ.:                 0.08166\n",
      "Time:                        22:32:32   Log-Likelihood:                -227.82\n",
      "converged:                       True   LL-Null:                       -248.08\n",
      "                                        LLR p-value:                 1.176e-07\n",
      "================================================================================\n",
      "                   coef    std err          z      P>|z|      [0.025      0.975]\n",
      "--------------------------------------------------------------------------------\n",
      "gre              0.0022      0.001      2.028      0.043    7.44e-05       0.004\n",
      "gpa              0.7793      0.333      2.344      0.019       0.128       1.431\n",
      "prestige_2.0    -0.6801      0.317     -2.146      0.032      -1.301      -0.059\n",
      "prestige_3.0    -1.3387      0.345     -3.882      0.000      -2.015      -0.663\n",
      "prestige_4.0    -1.5534      0.417     -3.721      0.000      -2.372      -0.735\n",
      "intercept       -3.8769      1.142     -3.393      0.001      -6.116      -1.638\n",
      "================================================================================\n"
     ]
    }
   ],
   "source": [
    "df = df_raw.dropna() \n",
    "df = pd.get_dummies(df, columns=['prestige'], drop_first=True)\n",
    "\n",
    "# manually add the intercept\n",
    "df['intercept'] = 1.0\n",
    "\n",
    "train_cols = ['gre','gpa','prestige_2.0','prestige_3.0','prestige_4.0','intercept']\n",
    "\n",
    "model = sm.Logit(df['admit'], df[train_cols])\n",
    "\n",
    "results = model.fit()\n",
    "print results.summary()"
   ]
  },
  {
   "cell_type": "markdown",
   "metadata": {
    "deletable": true,
    "editable": true
   },
   "source": [
    "### Discussion: Write up your discussion and future steps"
   ]
  },
  {
   "cell_type": "markdown",
   "metadata": {
    "deletable": true,
    "editable": true
   },
   "source": [
    "Answer: GRE and GPA scores correlate positively with the probability that a student is admitted into graduate school. Prestige is negatively correlated, with the magnitude increasing the lower the prestige ranking.\n",
    "\n",
    "For future steps, we could try different models (eg. random forest) and evaluate performance to see if there exists a better prediction method."
   ]
  }
 ],
 "metadata": {
  "kernelspec": {
   "display_name": "Python 2",
   "language": "python",
   "name": "python2"
  },
  "language_info": {
   "codemirror_mode": {
    "name": "ipython",
    "version": 2
   },
   "file_extension": ".py",
   "mimetype": "text/x-python",
   "name": "python",
   "nbconvert_exporter": "python",
   "pygments_lexer": "ipython2",
   "version": "2.7.13"
  }
 },
 "nbformat": 4,
 "nbformat_minor": 0
}
